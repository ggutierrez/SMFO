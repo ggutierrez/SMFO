{
 "cells": [
  {
   "cell_type": "code",
   "execution_count": 1,
   "metadata": {
    "collapsed": false,
    "run_control": {
     "frozen": false,
     "read_only": false
    }
   },
   "outputs": [
    {
     "name": "stderr",
     "output_type": "stream",
     "text": [
      "/Users/ggutierrez/anaconda/lib/python3.5/site-packages/matplotlib/backends/backend_pgf.py:54: UserWarning: error getting fonts from fc-list\n",
      "  warnings.warn('error getting fonts from fc-list', UserWarning)\n"
     ]
    },
    {
     "name": "stdout",
     "output_type": "stream",
     "text": [
      "Populating the interactive namespace from numpy and matplotlib\n"
     ]
    }
   ],
   "source": [
    "import matplotlib as mpl\n",
    "mpl.use(\"pgf\")\n",
    "pgf_with_pdflatex = {\n",
    "    \"pgf.texsystem\": \"pdflatex\",\n",
    "    \"pgf.preamble\": [\n",
    "         r\"\\usepackage[utf8x]{inputenc}\",\n",
    "         r\"\\usepackage[T1]{fontenc}\",\n",
    "         r\"\\usepackage{cmbright}\",\n",
    "         ]\n",
    "}\n",
    "mpl.rcParams.update(pgf_with_pdflatex)\n",
    "import matplotlib.pyplot as plt\n",
    "\n",
    "%pylab inline\n",
    "import numpy as np\n",
    "import pylab as pb\n",
    "import scipy.stats as stats\n",
    "import seaborn as sns\n",
    "import pandas as pd\n",
    "from sklearn import preprocessing\n",
    "pb.ion()\n",
    "\n",
    "sns.set_context(\"paper\")\n"
   ]
  },
  {
   "cell_type": "code",
   "execution_count": null,
   "metadata": {
    "collapsed": true,
    "run_control": {
     "frozen": false,
     "read_only": false
    }
   },
   "outputs": [],
   "source": [
    "def bmatrix(a,fname):\n",
    "    \"\"\"Returns a LaTeX bmatrix\n",
    "\n",
    "    :a: numpy array\n",
    "    :fname: file to write to\n",
    "    \"\"\"\n",
    "    if len(a.shape) > 2:\n",
    "        raise ValueError('bmatrix can at most display two dimensions')\n",
    "    with open(fname, \"w\") as out_file:\n",
    "        lines = str(a).replace('[', '').replace(']', '').splitlines()\n",
    "        rv = [r'\\begin{bmatrix}']\n",
    "        rv += ['  ' + ' & '.join(l.split()) + r'\\\\' for l in lines]\n",
    "        rv +=  [r'\\end{bmatrix}']\n",
    "        out_file.write('\\n'.join(rv))"
   ]
  },
  {
   "cell_type": "code",
   "execution_count": 2,
   "metadata": {
    "collapsed": false,
    "run_control": {
     "frozen": false,
     "read_only": false
    }
   },
   "outputs": [],
   "source": [
    "# first 4 columns are input: Wing-length, Wing-width, Tail-length, Arm-length\n",
    "# last 2 columns are outputs in seconds (flight time for two trials)\n",
    "data = np.genfromtxt('lab1_data.csv',delimiter=',')\n",
    "\n",
    "# Data used for the plotting library\n",
    "data2 = pd.read_csv('lab1_data.csv', names=[\"Wing-length\", \"Wing-width\", \"Tail-length\", \"Arm-length\", \"t1\", \"t2\"])\n",
    "\n",
    "X = data[:,0:4]\n",
    "F = np.mean(data[:,4:6],axis=1)[:,None]"
   ]
  },
  {
   "cell_type": "markdown",
   "metadata": {},
   "source": [
    "# Linear regression"
   ]
  },
  {
   "cell_type": "markdown",
   "metadata": {
    "heading_collapsed": true
   },
   "source": [
    "## Q1 Plotting the data"
   ]
  },
  {
   "cell_type": "code",
   "execution_count": null,
   "metadata": {
    "collapsed": false,
    "hidden": true,
    "run_control": {
     "frozen": false,
     "read_only": false
    }
   },
   "outputs": [],
   "source": [
    "# To plot just the upper diagonal and the histogram\n",
    "# g = sns.PairGrid(data2)\n",
    "# g.map_upper(plt.scatter)\n",
    "# g.map_diag(plt.hist)\n",
    "\n",
    "sns.pairplot(data2)"
   ]
  },
  {
   "cell_type": "markdown",
   "metadata": {
    "hidden": true
   },
   "source": [
    "After looking at data we can conclude:\n",
    "- There is not much noise between the realizations of every experiment."
   ]
  },
  {
   "cell_type": "code",
   "execution_count": null,
   "metadata": {
    "collapsed": false,
    "hidden": true,
    "run_control": {
     "frozen": false,
     "read_only": false
    }
   },
   "outputs": [],
   "source": [
    "sns.pairplot(data2, x_vars=['t1'], y_vars=['t2'])\n",
    "plt.xlabel('Falling time realization 1')\n",
    "plt.ylabel('Falling time realization 2')\n",
    "plt.savefig('t1_vs_t2.pgf')"
   ]
  },
  {
   "cell_type": "code",
   "execution_count": null,
   "metadata": {
    "collapsed": false,
    "hidden": true,
    "run_control": {
     "frozen": false,
     "read_only": false
    }
   },
   "outputs": [],
   "source": [
    "np.mean(np.var(data[:,4:6],axis=1))"
   ]
  },
  {
   "cell_type": "markdown",
   "metadata": {
    "hidden": true
   },
   "source": [
    "- There is a linear correlation between the wing length and the falling time."
   ]
  },
  {
   "cell_type": "code",
   "execution_count": null,
   "metadata": {
    "collapsed": false,
    "hidden": true,
    "run_control": {
     "frozen": false,
     "read_only": false
    }
   },
   "outputs": [],
   "source": [
    "pg = sns.pairplot(data2, x_vars=['t1', 't2'], y_vars=['Wing-length'])\n",
    "pg.axes[0,0].set_xlabel('Falling time realization 1')\n",
    "pg.axes[0,1].set_xlabel('Falling time realization 2')\n",
    "pg.axes[0,0].set_ylabel('Wing length')\n",
    "plt.savefig('wing_length_vs_times.pgf')"
   ]
  },
  {
   "cell_type": "markdown",
   "metadata": {
    "hidden": true
   },
   "source": [
    "- There is a linear correlation between the arm length and the falling time."
   ]
  },
  {
   "cell_type": "code",
   "execution_count": null,
   "metadata": {
    "collapsed": false,
    "hidden": true,
    "run_control": {
     "frozen": false,
     "read_only": false
    }
   },
   "outputs": [],
   "source": [
    "pg = sns.pairplot(data2, x_vars=['t1', 't2'], y_vars=['Arm-length'])\n",
    "pg.axes[0,0].set_xlabel('Falling time realization 1')\n",
    "pg.axes[0,1].set_xlabel('Falling time realization 2')\n",
    "pg.axes[0,0].set_ylabel('Arm length')\n",
    "plt.savefig('arm_length_vs_times.pgf')"
   ]
  },
  {
   "cell_type": "markdown",
   "metadata": {
    "hidden": true
   },
   "source": [
    "- It seems to be a small linear correlation between the arm length and the tail length."
   ]
  },
  {
   "cell_type": "code",
   "execution_count": null,
   "metadata": {
    "collapsed": false,
    "hidden": true,
    "run_control": {
     "frozen": false,
     "read_only": false
    }
   },
   "outputs": [],
   "source": [
    "pg = sns.pairplot(data2, x_vars=['Tail-length'], y_vars=['Arm-length'])\n",
    "pg.axes[0,0].set_xlabel('Tail length')\n",
    "pg.axes[0,0].set_ylabel('Arm length')\n",
    "plt.savefig('tail_length_vs_arm_length.pgf')"
   ]
  },
  {
   "cell_type": "markdown",
   "metadata": {},
   "source": [
    "## Q2 Completing the linear regression"
   ]
  },
  {
   "cell_type": "markdown",
   "metadata": {},
   "source": [
    "Computes a linear regression for $X$ and $F$ as:\n",
    "\n",
    "\\begin{align*}\n",
    "m(X) =& B(X)\\hat{\\beta} \\\\\n",
    "m(X) =& B(X)(B(X)^t B(X))^{-1}B(X)^t F\n",
    "\\end{align*}\n",
    "\n",
    "Returns the vector of coefficients $\\hat{\\beta}$ and the covariance matrix $covBeta$:\n",
    "\n",
    "\\begin{align*}\n",
    "\\hat{\\beta} =& (B(X)^t B(X))^{-1}B(X)^t F \\\\\n",
    "covBeta =& (B(X)^t B(X))^{-1}B(X)^t cov[\\epsilon,\\epsilon^t]B(X)(B(X)^t B(X))^{-1}\n",
    "\\end{align*}\n",
    "\n"
   ]
  },
  {
   "cell_type": "code",
   "execution_count": 3,
   "metadata": {
    "collapsed": false,
    "run_control": {
     "frozen": false,
     "read_only": false
    }
   },
   "outputs": [],
   "source": [
    "def LR(X,F,B,tau2):\n",
    "    #input:\t  X, np.array with d columns representing the DoE\n",
    "    #\t\t  F, np.array with 1 column representing the observations\n",
    "    #\t\t  B, a function returning the (p) basis functions evaluated at x\n",
    "    # \t\t  tau2, noise variance\n",
    "    #output:  beta, estimate of coefficients np.array of shape (p,1)\n",
    "    #\t\t  covBeta, cov matrix of beta, np.array of shape (p,p)\n",
    "\n",
    "    # ... to be completed ...\n",
    "    BX = B(X)\n",
    "    A = np.linalg.inv(np.dot(BX.T, BX))\n",
    "    C = np.dot(A, BX.T)\n",
    "    D = np.dot(BX, A)\n",
    "    beta = np.dot(C, F)\n",
    "    covBeta = np.dot(C,D)*tau2\n",
    "    return(beta,covBeta)"
   ]
  },
  {
   "cell_type": "markdown",
   "metadata": {},
   "source": [
    "## Q3 Prediction"
   ]
  },
  {
   "cell_type": "code",
   "execution_count": 133,
   "metadata": {
    "code_folding": [
     0
    ],
    "collapsed": true,
    "run_control": {
     "frozen": false,
     "read_only": false
    }
   },
   "outputs": [],
   "source": [
    "def predLR(x,B,beta,covBeta):\n",
    "    #function returning predicted mean and variance\n",
    "    #input:\t  x, np.array with d columns representing m prediction points\n",
    "    #\t\t  B, a function returning the (p) basis functions evaluated at x\n",
    "    #\t\t  beta, estimate of the regression coefficients\n",
    "    # \t\t  covBeta, covariance matrix of beta\n",
    "    #output:  m, predicted mean at x, np.array of shape (m,1)\n",
    "    #\t\t  v, predicted variance matrix, np.array of shape (m,m)\n",
    "\n",
    "    BB = B(x)\n",
    "    m = np.dot(BB, beta)\n",
    "    v = np.dot(BB,covBeta)\n",
    "    v = np.dot(v,BB.T)\n",
    "    return(np.asarray(m),np.asarray(v))\n",
    "\n",
    "def plotModel(x,m,v, ax=pb, xreal=None, freal=None):\n",
    "\t#input:\t  x, np.array with d columns representing m prediction points\n",
    "\t#\t\t  m, predicted mean at x, np.array of shape (m,1)\n",
    "\t#\t\t  v, predicted variance matrix, np.array of shape (m,m)\n",
    "    x = x.flatten()\n",
    "    m = m.flatten()\n",
    "    v = np.diag(v)\n",
    "    #print x.shape, m.shape\n",
    "    upper=m+2*np.sqrt(v)\n",
    "    lower=m-2*np.sqrt(v)\n",
    "    ax.plot(x,m,color=\"#204a87\",linewidth=2)\n",
    "    ax.fill(np.hstack((x,x[::-1])),np.hstack((upper,lower[::-1])),color=\"#729fcf\",alpha=0.3)\n",
    "    ax.plot(x,upper,color=\"#204a87\",linewidth=0.2)\n",
    "    ax.plot(x,lower,color=\"#204a87\",linewidth=0.2)\n",
    "    if xreal is not None and freal is not None:\n",
    "        xreal = xreal.flatten()\n",
    "        freal = freal.flatten()\n",
    "        ax.plot(xreal,freal,'*')\n",
    "        ax.set_xlim(np.min(x)-0.2,np.max(x)+0.2)\n",
    "        #ax.set_ylim(np.min(freal)-0.2,np.max(freal)+0.2)\n",
    "\n",
    "def R2(X,F,B,beta):\n",
    "    return(1-sum((F-np.dot(B(X),beta))**2)/sum((F-np.mean(F))**2))\n",
    "\n",
    "def testData(x,n=100):\n",
    "    ret = []\n",
    "    for i in range(x.shape[1]):\n",
    "        a = np.linspace(np.min(x[:,i]), np.max(X[:,i]), n)\n",
    "        ret.append(a)\n",
    "    return np.array(ret).T "
   ]
  },
  {
   "cell_type": "markdown",
   "metadata": {
    "heading_collapsed": true
   },
   "source": [
    "### First attempt"
   ]
  },
  {
   "cell_type": "markdown",
   "metadata": {
    "hidden": true
   },
   "source": [
    "Model prediction using a a constant effect, a linear effect on wing length and a quadratic effect on wing length."
   ]
  },
  {
   "cell_type": "code",
   "execution_count": null,
   "metadata": {
    "collapsed": false,
    "hidden": true,
    "run_control": {
     "frozen": false,
     "read_only": false
    }
   },
   "outputs": [],
   "source": [
    "def B(x):\n",
    "    # function returning the matrix of basis functions evaluated at x\n",
    "    #input:\t  x, np.array with d columns\n",
    "    #output:  a matrix of geberal term B_{i,j} = b_j(x_i)\n",
    "    b0 = np.ones((x.shape[0],1)) # Constant effect\n",
    "    b1 = (x[:,0])[:,None]        # Linear effect (wing length)\n",
    "    b2 = np.power(b1, 2)         # Cuadratic effect (wing length)\n",
    "    #b2 = x[:,0:1]*x[:,3:4]\n",
    "    B = np.hstack((b0,b1,b2))\n",
    "    return B\n",
    "\n",
    "tau2 = np.var(data[:,4] - data[:,5])/2.0\n",
    "beta, covBeta = LR(X, F, B, tau2)\n",
    "\n",
    "# Use the LR to predict\n",
    "x = testData(X)\n",
    "mean_pred, cov_pred = predLR(x, B, beta, covBeta)\n",
    "\n",
    "# Plot results\n",
    "f, ((ax_wl, ax_ww), (ax_tl, ax_al)) = plt.subplots(2,2, figsize=(6,3), sharey=True)\n",
    "plotModel(x[:,0], mean_pred, cov_pred, ax=ax_wl, xreal=X[:,0],freal=F)\n",
    "plotModel(x[:,1], mean_pred, cov_pred, ax=ax_ww, xreal=X[:,1],freal=F)\n",
    "plotModel(x[:,2], mean_pred, cov_pred, ax=ax_tl, xreal=X[:,2],freal=F)\n",
    "plotModel(x[:,3], mean_pred, cov_pred, ax=ax_al, xreal=X[:,3],freal=F)\n",
    "#ax_wl.set_xlim(np.min(x[:,0])-0.2, np.max(x[:,0])\n",
    "#, ax_ww, ax_tl, ax_al\n",
    "\n",
    "ax_wl.set_ylabel(\"Flying time\")\n",
    "ax_tl.set_ylabel(\"Flying time\")\n",
    "ax_wl.set_xlabel(\"Wing length\")\n",
    "ax_ww.set_xlabel(\"Wing width\")\n",
    "ax_tl.set_xlabel(\"Tail length\")\n",
    "ax_al.set_xlabel(\"Arm length\")\n",
    "plt.tight_layout()\n",
    "f.subplots_adjust(hspace=0.5)\n",
    "plt.savefig('reg_badr2.pgf')\n",
    "\n",
    "print (\"R2: %f\" % R2(X,F,B,beta))"
   ]
  },
  {
   "cell_type": "markdown",
   "metadata": {},
   "source": [
    "### Second attempt "
   ]
  },
  {
   "cell_type": "markdown",
   "metadata": {},
   "source": [
    "Model prediction using other basis functions"
   ]
  },
  {
   "cell_type": "code",
   "execution_count": 16,
   "metadata": {
    "collapsed": false,
    "run_control": {
     "frozen": false,
     "read_only": false
    }
   },
   "outputs": [
    {
     "data": {
      "text/plain": [
       "0.77856980788198116"
      ]
     },
     "execution_count": 16,
     "metadata": {},
     "output_type": "execute_result"
    },
    {
     "data": {
      "image/png": "[encoded data removed]",
      "text/plain": [
       "<matplotlib.figure.Figure at 0x1179d3668>"
      ]
     },
     "metadata": {},
     "output_type": "display_data"
    }
   ],
   "source": [
    "def B2(x):\n",
    "    # function returning the matrix of basis functions evaluated at x\n",
    "    #input:\t  x, np.array with d columns\n",
    "    #output:  a matrix of geberal term B_{i,j} = b_j(x_i)\n",
    "    b0 = np.ones((x.shape[0],1)) # Constant effect\n",
    "    \n",
    "    b1 = x\n",
    "    # The above basis is equivalent to:\n",
    "    #b10 = x[:,0:1] # This is extremly important in R2\n",
    "    #b11 = x[:,1:2]\n",
    "    #b12 = x[:,2:3]\n",
    "    #b13 = x[:,3:4]\n",
    "    \n",
    "    b2 = x[:,3:4]**2.0\n",
    "    b3 = np.sin(x[:,3:4])\n",
    "    b4 = np.cos(x[:,0:1])\n",
    "    B = np.hstack((b0, b1, b2, b3, b4))\n",
    "    #B = np.hstack((b0, b10, b11, b12, b13, b2, b3, b4))\n",
    "    return B\n",
    "\n",
    "# Compute a linear regression with the experiment data\n",
    "tau2 = np.var(data[:,4] - data[:,5])/2.0\n",
    "(beta,covBeta) = LR(X,F,B2,tau2)\n",
    "\n",
    "# bmatrix(covBeta,'covBetaR2.tex')\n",
    "# bmatrix(beta, 'betaR2.tex')\n",
    "\n",
    "# Use the LR to predict\n",
    "x = testData(X)\n",
    "mean_pred, cov_pred = predLR(x, B2, beta, covBeta)\n",
    "\n",
    "# Plot results\n",
    "f, ((ax_wl, ax_ww), (ax_tl, ax_al)) = plt.subplots(2,2, figsize=(6,3), sharey=True)\n",
    "plotModel(x[:,0], mean_pred, cov_pred, ax=ax_wl, xreal=X[:,0],freal=F)\n",
    "plotModel(x[:,1], mean_pred, cov_pred, ax=ax_ww, xreal=X[:,1],freal=F)\n",
    "plotModel(x[:,2], mean_pred, cov_pred, ax=ax_tl, xreal=X[:,2],freal=F)\n",
    "plotModel(x[:,3], mean_pred, cov_pred, ax=ax_al, xreal=X[:,3],freal=F)\n",
    "ax_wl.set_ylabel(\"Flying time\")\n",
    "ax_tl.set_ylabel(\"Flying time\")\n",
    "ax_wl.set_xlabel(\"Wing length\")\n",
    "ax_ww.set_xlabel(\"Wing width\")\n",
    "ax_tl.set_xlabel(\"Tail length\")\n",
    "ax_al.set_xlabel(\"Arm length\")\n",
    "f.subplots_adjust(hspace=0.5)\n",
    "plt.savefig('reg_beterr2.pgf')\n",
    "R2(X,F,B2,beta)"
   ]
  },
  {
   "cell_type": "markdown",
   "metadata": {
    "heading_collapsed": true
   },
   "source": [
    "### Third attempt (scaled model)"
   ]
  },
  {
   "cell_type": "markdown",
   "metadata": {
    "hidden": true
   },
   "source": [
    "Model prediction on scaled data and with the same basis functions as above."
   ]
  },
  {
   "cell_type": "code",
   "execution_count": null,
   "metadata": {
    "collapsed": false,
    "hidden": true,
    "run_control": {
     "frozen": false,
     "read_only": false
    }
   },
   "outputs": [],
   "source": [
    "# Compute the linear regression on scaled data\n",
    "scaler = preprocessing.MinMaxScaler(feature_range=(0.0,1.0))\n",
    "Xscaled = scaler.fit_transform(data[:,0:4])\n",
    "Yscaled = scaler.fit_transform(data[:,4:6])\n",
    "\n",
    "Fscaled = np.mean(Yscaled,axis=1)[:,None]\n",
    "tau2scaled = np.var(Yscaled[:,0] - Yscaled[:,1])/2.0\n",
    "(betaScaled,covBetaScaled) = LR(Xscaled,Fscaled,B2,tau2scaled)\n",
    "\n",
    "# Predict for random generated data\n",
    "x = testData(Xscaled)\n",
    "mean_pred, cov_pred = predLR(x, B2, betaScaled, covBetaScaled)\n",
    "\n",
    "# Plot results\n",
    "f, ((ax_wl, ax_ww), (ax_tl, ax_al)) = plt.subplots(2,2, figsize=(7,4), sharey=True)\n",
    "plotModel(x[:,0], mean_pred, cov_pred, ax=ax_wl, xreal=Xscaled[:,0],freal=Fscaled)\n",
    "plotModel(x[:,1], mean_pred, cov_pred, ax=ax_ww, xreal=Xscaled[:,1],freal=Fscaled)\n",
    "plotModel(x[:,2], mean_pred, cov_pred, ax=ax_tl, xreal=Xscaled[:,2],freal=Fscaled)\n",
    "plotModel(x[:,3], mean_pred, cov_pred, ax=ax_al, xreal=Xscaled[:,3],freal=Fscaled)\n",
    "ax_wl.set_ylabel(\"Flying time\")\n",
    "ax_tl.set_ylabel(\"Flying time\")\n",
    "ax_wl.set_xlabel(\"Wing length\")\n",
    "ax_ww.set_xlabel(\"Wing width\")\n",
    "ax_tl.set_xlabel(\"Tail length\")\n",
    "ax_al.set_xlabel(\"Arm length\")\n",
    "f.subplots_adjust(hspace=0.5)\n",
    "R2(Xscaled,Fscaled,B2,betaScaled)"
   ]
  },
  {
   "cell_type": "markdown",
   "metadata": {},
   "source": [
    "## Q4 P-Values"
   ]
  },
  {
   "cell_type": "code",
   "execution_count": 17,
   "metadata": {
    "collapsed": false,
    "run_control": {
     "frozen": false,
     "read_only": false
    }
   },
   "outputs": [
    {
     "data": {
      "text/plain": [
       "array([[ 0.  ,  0.  ,  0.  ,  0.  ,  0.  ,  0.  ,  0.  ,  0.  ],\n",
       "       [ 0.8 ,  0.  ,  0.  ,  0.  ,  0.15,  0.  ,  0.  ,  0.01],\n",
       "       [ 0.94,  0.27,  0.  ,  0.  ,  0.68,  0.  ,  0.15,  0.4 ],\n",
       "       [ 0.96,  0.45,  0.  ,  0.  ,  0.78,  0.  ,  0.33,  0.57],\n",
       "       [ 0.65,  0.  ,  0.  ,  0.  ,  0.02,  0.  ,  0.  ,  0.  ],\n",
       "       [ 0.98,  0.71,  0.1 ,  0.06,  0.89,  0.01,  0.62,  0.78],\n",
       "       [ 0.89,  0.04,  0.  ,  0.  ,  0.43,  0.  ,  0.01,  0.11],\n",
       "       [ 0.71,  0.  ,  0.  ,  0.  ,  0.05,  0.  ,  0.  ,  0.  ]])"
      ]
     },
     "execution_count": 17,
     "metadata": {},
     "output_type": "execute_result"
    }
   ],
   "source": [
    "def pvalue(beta,covBeta,X):\n",
    "\tdf = X.shape[0] - len(beta)\n",
    "\tcdf = stats.t.cdf(np.abs(beta)/np.sqrt(np.diag(covBeta)),df)\n",
    "\treturn(2*(1 - cdf))\n",
    "\n",
    "np.round(pvalue(beta,covBeta,X),2)"
   ]
  },
  {
   "cell_type": "markdown",
   "metadata": {},
   "source": [
    "## Q5 Other physical quantities"
   ]
  },
  {
   "cell_type": "code",
   "execution_count": 117,
   "metadata": {
    "collapsed": false,
    "run_control": {
     "frozen": false,
     "read_only": false
    }
   },
   "outputs": [],
   "source": [
    "## coordinate change\n",
    "def angle(X):\n",
    "\t# X is Wing-length, Wing-width, Tail-length, Arm-length\n",
    "\t# returns the angle (in degrees) between the tail and the wing\n",
    "    wl = X[:,0]\n",
    "    ww = X[:,1]\n",
    "    tl = X[:,2]\n",
    "    al = X[:,3]\n",
    "    #return(np.pi/180*np.arccos(-1.*((X[:,3]-2.5)**2-(X[:,2]-2.5)**2-X[:,0]**2)/(2*(X[:,2]-2.5)*X[:,0])))\n",
    "    return(np.pi/180*np.arccos(-1.*((al-2.5)**2-(tl-2.5)**2-wl**2)/(2*(tl-2.5)*wl)))\n",
    "\n",
    "def wingarea(X):\n",
    "\t# X is Wing-length, Wing-width, Tail-length, Arm-length\n",
    "\t# returns wing area (in squared centimiters)\n",
    "    wl = X[:,0]\n",
    "    ww = X[:,1]\n",
    "    return(wl*ww)\n",
    "\n",
    "def wingspan(X):\n",
    "\t# X is Wing-length, Wing-width, Tail-length, Arm-length\n",
    "\t# returns the wingspan \n",
    "    wl = X[:,0]\n",
    "    ww = X[:,1]\n",
    "    # Wing span:\n",
    "    ws = 2.0 * np.sqrt(ww**2 + wl**2)\n",
    "    return ws\n",
    "\n",
    "def wingspan_tail_length_ratio(X):\n",
    "    # X is Wing-length, Wing-width, Tail-length, Arm-length\n",
    "\t# returns the wingspan / tail-length ratio\n",
    "    tl = X[:,2]\n",
    "    ws = wingspan(X)\n",
    "    return ws / tl\n",
    "\n",
    "def armLength(X):\n",
    "\t# X is Wing-length, Wing-width, Tail-length, angle (in degrees) between the tail and the wing\n",
    "\t# returns the arm length\n",
    "\treturn(np.sqrt(X[:,0]**2+(X[:,2]-2.5)**2-2*np.cos(X[:,3]*180/np.pi)*X[:,0]*(X[:,2]-2.5))+2.5)\n",
    "\n",
    "def transform(X):\n",
    "    # Transforms X to include other phisical quantities. \n",
    "    # Columns: angle, wing area, wing span and wing span to tail ratio\n",
    "    a = angle(X)[:,None]\n",
    "    wa = wingarea(X)[:,None]\n",
    "    ws = wingspan(X)[:,None]\n",
    "    return np.hstack((a, wa, ws))"
   ]
  },
  {
   "cell_type": "code",
   "execution_count": 118,
   "metadata": {
    "collapsed": false
   },
   "outputs": [],
   "source": [
    "TX = transform(X)\n",
    "\n",
    "newdim = np.hstack((TX,F))\n",
    "dataNewDim = pd.DataFrame(data=newdim, columns=[\"Angle\", \"Wing area\", \"Wing span\", \"Falling time\"])"
   ]
  },
  {
   "cell_type": "code",
   "execution_count": 119,
   "metadata": {
    "collapsed": false
   },
   "outputs": [
    {
     "data": {
      "text/plain": [
       "<seaborn.axisgrid.PairGrid at 0x11891d588>"
      ]
     },
     "execution_count": 119,
     "metadata": {},
     "output_type": "execute_result"
    },
    {
     "data": {
      "image/png": "[encoded data removed]",
      "text/plain": [
       "<matplotlib.figure.Figure at 0x11891d6d8>"
      ]
     },
     "metadata": {},
     "output_type": "display_data"
    }
   ],
   "source": [
    "sns.pairplot(dataNewDim,y_vars=[\"Falling time\"], x_vars=[\"Angle\", \"Wing area\", \"Wing span\"])"
   ]
  },
  {
   "cell_type": "code",
   "execution_count": 146,
   "metadata": {
    "collapsed": false
   },
   "outputs": [
    {
     "data": {
      "text/plain": [
       "0.6203790023833694"
      ]
     },
     "execution_count": 146,
     "metadata": {},
     "output_type": "execute_result"
    },
    {
     "data": {
      "image/png": "[encoded data removed]",
      "text/plain": [
       "<matplotlib.figure.Figure at 0x118d5cfd0>"
      ]
     },
     "metadata": {},
     "output_type": "display_data"
    }
   ],
   "source": [
    "def B3(x):\n",
    "    # function returning the matrix of basis functions evaluated at x\n",
    "    #input:\t  x, np.array with d columns\n",
    "    #output:  a matrix of geberal term B_{i,j} = b_j(x_i)\n",
    "    b0 = np.ones((x.shape[0],1)) # Constant effect\n",
    "    b1 = x[:,0:1]\n",
    "    b3 = x[:,0:1] * x[:,1:2]\n",
    "    b4 = np.cos(x[:,2:3])\n",
    "    B = np.hstack((b0, b1, b3, b4))\n",
    "    return B\n",
    "\n",
    "# Compute a linear regression with the experiment data\n",
    "tau2 = np.var(data[:,4] - data[:,5])/2.0\n",
    "(beta,covBeta) = LR(TX,F,B3,tau2)\n",
    "\n",
    "# bmatrix(covBeta,'covBetaR2.tex')\n",
    "# bmatrix(beta, 'betaR2.tex')\n",
    "\n",
    "# Use the LR to predict\n",
    "x = testData(TX)\n",
    "mean_pred, cov_pred = predLR(x, B3, beta, covBeta)\n",
    "\n",
    "# Plot results\n",
    "f, ((ax_wang, ax_warea), (ax_ws, ax_wsr)) = plt.subplots(2,2, figsize=(6,3), sharey=True)\n",
    "plotModel(x[:,0], mean_pred, cov_pred, ax=ax_wang, xreal=TX[:,0],freal=F)\n",
    "plotModel(x[:,1], mean_pred, cov_pred, ax=ax_warea, xreal=TX[:,1],freal=F)\n",
    "plotModel(x[:,2], mean_pred, cov_pred, ax=ax_ws, xreal=TX[:,2],freal=F)\n",
    "ax_wang.set_ylabel(\"Flying time\")\n",
    "ax_ws.set_ylabel(\"Flying time\")\n",
    "ax_wang.set_xlabel(\"Wing angle\")\n",
    "ax_warea.set_xlabel(\"Wing area\")\n",
    "ax_ws.set_xlabel(\"Wing span\")\n",
    "f.subplots_adjust(hspace=0.5)\n",
    "plt.savefig('reg_physdim.pgf')\n",
    "R2(TX,F,B3,beta)"
   ]
  },
  {
   "cell_type": "markdown",
   "metadata": {},
   "source": [
    "# Gaussian process regression"
   ]
  },
  {
   "cell_type": "markdown",
   "metadata": {},
   "source": [
    "## Kernel classification"
   ]
  },
  {
   "cell_type": "markdown",
   "metadata": {},
   "source": [
    "- Constant kernel: $k(x,y) = \\sigma^2$"
   ]
  },
  {
   "cell_type": "code",
   "execution_count": null,
   "metadata": {
    "collapsed": true
   },
   "outputs": [],
   "source": [
    "def kern(X,Y,sigma2=1.):\n",
    "\tk = sigma2*np.ones((X.shape[0],Y.shape[0]))\n",
    "\treturn(k)"
   ]
  },
  {
   "cell_type": "markdown",
   "metadata": {},
   "source": [
    "- Gaussian kernel"
   ]
  },
  {
   "cell_type": "code",
   "execution_count": null,
   "metadata": {
    "collapsed": true
   },
   "outputs": [],
   "source": [
    "def kern(X,Y,sigma2=1.,theta=.2):\n",
    "\td2 = np.sum((X[:,None,:]-Y[None,:,:])**2/theta**2,2)\n",
    "\tk = sigma2*np.exp(-d2/2.)\n",
    "\treturn(k)"
   ]
  },
  {
   "cell_type": "markdown",
   "metadata": {},
   "source": [
    "- Matern 3/2"
   ]
  },
  {
   "cell_type": "code",
   "execution_count": 148,
   "metadata": {
    "collapsed": true
   },
   "outputs": [],
   "source": [
    "def kern(X,Y,sigma2=1.,theta=.2):\n",
    "\td = np.sqrt(np.sum((X[:,None,:]-Y[None,:,:])**2/theta**2,2))\n",
    "\tk = sigma2*(1+np.sqrt(3)*d)*np.exp(-np.sqrt(3)*d)\n",
    "\treturn(k)"
   ]
  },
  {
   "cell_type": "markdown",
   "metadata": {},
   "source": [
    "- Unclassified"
   ]
  },
  {
   "cell_type": "code",
   "execution_count": 149,
   "metadata": {
    "collapsed": true
   },
   "outputs": [],
   "source": [
    "def kern(X,Y,sigma2=1.):\n",
    "\tk = sigma2*np.fmin(X,Y.T)\n",
    "\treturn(k)"
   ]
  },
  {
   "cell_type": "markdown",
   "metadata": {},
   "source": [
    "- Unclassified"
   ]
  },
  {
   "cell_type": "code",
   "execution_count": 150,
   "metadata": {
    "collapsed": true
   },
   "outputs": [],
   "source": [
    "def kern(X,Y,sigma2=1.):\n",
    "\tk = sigma2*np.all(X[:,None,:]==Y[None,:,:],axis=2)\n",
    "\treturn(k)"
   ]
  },
  {
   "cell_type": "markdown",
   "metadata": {},
   "source": [
    "## SampleGP"
   ]
  }
 ],
 "metadata": {
  "hide_input": false,
  "kernelspec": {
   "display_name": "Python 3",
   "language": "python",
   "name": "python3"
  },
  "language_info": {
   "codemirror_mode": {
    "name": "ipython",
    "version": 3
   },
   "file_extension": ".py",
   "mimetype": "text/x-python",
   "name": "python",
   "nbconvert_exporter": "python",
   "pygments_lexer": "ipython3",
   "version": "3.5.1"
  },
  "latex_envs": {
   "bibliofile": "biblio.bib",
   "cite_by": "apalike",
   "current_citInitial": 1,
   "eqLabelWithNumbers": true,
   "eqNumInitial": 0
  },
  "toc": {
   "toc_cell": false,
   "toc_number_sections": true,
   "toc_threshold": 6,
   "toc_window_display": false
  },
  "widgets": {
   "state": {},
   "version": "1.1.2"
  }
 },
 "nbformat": 4,
 "nbformat_minor": 0
}
