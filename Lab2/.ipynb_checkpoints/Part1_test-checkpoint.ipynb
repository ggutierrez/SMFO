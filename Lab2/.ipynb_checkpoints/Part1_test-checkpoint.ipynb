{
 "cells": [
  {
   "cell_type": "markdown",
   "metadata": {},
   "source": [
    "# Laboratory 2: Design of Experiments"
   ]
  },
  {
   "cell_type": "markdown",
   "metadata": {},
   "source": [
    "### Defining the expermients"
   ]
  },
  {
   "cell_type": "markdown",
   "metadata": {},
   "source": [
    "In this part was neccesary to build a function to generate a Latin Hypercube and the k means cloud point to select the best one an generate the experiments"
   ]
  },
  {
   "cell_type": "code",
   "execution_count": 13,
   "metadata": {
    "collapsed": false
   },
   "outputs": [
    {
     "name": "stdout",
     "output_type": "stream",
     "text": [
      "Populating the interactive namespace from numpy and matplotlib\n",
      "DoE Quality Measures: \n",
      "Discrepancy random:  0.11605586801\n",
      "Discrepancy X lhd:  0.185118347518\n",
      "Discrepancy X kmeans:  0.698228999332\n",
      "-------------------------------------\n",
      "Maximin random:  0.540760302278\n",
      "Maximin X lhd:  0.583579829576\n",
      "MaximinX kmeans:  0.432735151632\n",
      "-------------------------------------\n",
      "Minimax random:  0.683684689841\n",
      "Minimax X lhd:  0.664957952356\n",
      "MinimaxX kmeans:  0.472174526512\n"
     ]
    }
   ],
   "source": [
    "import matplotlib as mpl\n",
    "mpl.use(\"pgf\")\n",
    "pgf_with_pdflatex = {\n",
    "    \"pgf.texsystem\": \"pdflatex\",\n",
    "    \"pgf.preamble\": [\n",
    "         r\"\\usepackage[utf8x]{inputenc}\",\n",
    "         r\"\\usepackage[T1]{fontenc}\",\n",
    "         r\"\\usepackage{cmbright}\",\n",
    "         ]\n",
    "}\n",
    "mpl.rcParams.update(pgf_with_pdflatex)\n",
    "import matplotlib.pyplot as plt\n",
    "\n",
    "% pylab inline\n",
    "import numpy as np\n",
    "import pandas as pd\n",
    "import pylab as pb\n",
    "import GPy\n",
    "import seaborn as sns\n",
    "pb.ion()\n",
    "\n",
    "\n",
    "sns.set_context(\"paper\")\n",
    "\n",
    "##################################################################\n",
    "##                            part 1                            ##\n",
    "##################################################################\n",
    "\n",
    "# generate random uniform numbers\n",
    "X = np.random.uniform(0,1,(40,4))\n",
    "#pb.plot(X[:,0],X[:,1],'kx',mew=1.5)\n",
    "\n",
    "# generate Sobol Low discrepency sequence\n",
    "XS = SobolSequence(40,4)\n",
    "#pb.plot(XS[:,0],XS[:,1],'bx',mew=1.5)\n",
    "\n",
    "def discrepancy(X):\n",
    "    # compute the discrepency with respect to the center of the domain\n",
    "    n,d = X.shape\n",
    "    Xcentred = X-.5\n",
    "    distCentreX = np.sort(np.max(np.abs(Xcentred),axis=1))\n",
    "    theoreticalProba = (2*distCentreX)**d\n",
    "    empiricalProba = 1.*np.arange(n)/n\n",
    "    D = np.hstack((np.abs(theoreticalProba-empiricalProba,theoreticalProba-empiricalProba+1./n)))\n",
    "    return(np.max(D))\n",
    "\n",
    "\n",
    "\n",
    "def maximin(X):\n",
    "    n,d = X.shape\n",
    "    distMat = np.sqrt(np.sum((X[:,None,:] - X[None,:,:])**2,axis=2))\n",
    "    distMat += np.sqrt(d)*np.eye(n)\n",
    "    return(np.max(np.min(distMat,axis=1)))\n",
    "\n",
    "\n",
    "\n",
    "def minimax(X):\n",
    "    n,d = X.shape\n",
    "    G = SobolSequence(100000,d)\n",
    "    dXG = np.sum((X[:,None,:]-G[None,:,:])**2,axis=2)\n",
    "    dXGmin = np.min(dXG,axis=0)\n",
    "    minimax2 = np.max(dXGmin)\n",
    "    return(np.sqrt(minimax2))\n",
    "\n",
    "\n",
    "\n",
    "def IMSE(X,theta=.2):\n",
    "    n,d = X.shape\n",
    "    G = SobolSequence(50000,d)\n",
    "    dX2 = np.sum((X[:,None,:]-X[None,:,:])**2/theta**2,2)\n",
    "    dG2 = np.sum((G[:,None,:]-X[None,:,:])**2/theta**2,2)\n",
    "    kX_1 = np.linalg.inv(np.exp(-dX2/2.))\n",
    "    kG = np.exp(-dG2/2.)\n",
    "    imse = 1 - np.mean(np.sum(np.dot(kG,kX_1)*kG,axis=1))\n",
    "    return(imse)\n",
    "\n",
    "def LHD(n,d):\n",
    "    ini = np.arange(n)\n",
    "    data = np.linspace(0, 1, n)\n",
    "    idx = ini\n",
    "    for i in range(1,d):\n",
    "        tmp = np.random.permutation(ini)\n",
    "        idx = np.vstack((idx, tmp))\n",
    "    \n",
    "    hypercube = data[idx[:,0]]\n",
    "    for i in range(1,n):\n",
    "        hypercube = np.vstack((hypercube,data[idx[:,i]]))\n",
    "\n",
    "    return hypercube\n",
    "\n",
    "def Kmeans(n,d):\n",
    "    X = np.random.uniform(0,1,(10000,d))\n",
    "    hypercube,_ = cluster.kmeans(X, n)\n",
    "    return X, hypercube\n",
    "\n",
    "\n",
    "Xlhd = LHD(40,4)\n",
    "_, Xkmeans = Kmeans(40,4)\n",
    "#pb.plot(X[:,0], X[:,1], 'bx')\n",
    "#pb.plot(hc[:,0], hc[:,1], 'ro')\n",
    "\n",
    "print 'DoE Quality Measures: '\n",
    "print 'Discrepancy random: ', discrepancy(X)\n",
    "#print 'Discrepancy Sobol: ', discrepancy(XS)\n",
    "print 'Discrepancy X lhd: ', discrepancy(Xlhd)\n",
    "print 'Discrepancy X kmeans: ', discrepancy(Xkmeans)\n",
    "print '-------------------------------------'\n",
    "print 'Maximin random: ', maximin(X)\n",
    "#print 'Maximin Sobol: ', maximin(XS)\n",
    "print 'Maximin X lhd: ', maximin(Xlhd)\n",
    "print 'MaximinX kmeans: ', maximin(Xkmeans)\n",
    "print '-------------------------------------'\n",
    "print 'Minimax random: ', minimax(X)\n",
    "#print 'Minimax Sobol: ', minimax(XS)\n",
    "print 'Minimax X lhd: ', minimax(Xlhd)\n",
    "print 'MinimaxX kmeans: ', minimax(Xkmeans)"
   ]
  },
  {
   "cell_type": "code",
   "execution_count": 14,
   "metadata": {
    "collapsed": true
   },
   "outputs": [],
   "source": [
    "names = [\"Wing-length\", \"Wing-width\", \"Tail-length\", \"Arm-length\"]\n",
    "data = pd.DataFrame(data=Xkmeans, columns=names)\n",
    "#sns.pairplot(data)"
   ]
  },
  {
   "cell_type": "code",
   "execution_count": 15,
   "metadata": {
    "collapsed": false
   },
   "outputs": [
    {
     "data": {
      "image/png": "[encoded data removed]",
      "text/plain": [
       "<matplotlib.figure.Figure at 0x12341e250>"
      ]
     },
     "metadata": {},
     "output_type": "display_data"
    }
   ],
   "source": [
    "pg = sns.pairplot(data, x_vars=[\"Wing-length\"], y_vars=[\"Wing-width\"])\n",
    "pg.axes[0,0].set_xlabel('Wing length')\n",
    "pg.axes[0,0].set_ylabel('Wing width')\n",
    "plt.savefig('wing_width_vs_wing_length_kmeans.pgf')"
   ]
  },
  {
   "cell_type": "code",
   "execution_count": 16,
   "metadata": {
    "collapsed": false
   },
   "outputs": [
    {
     "data": {
      "image/png": "[encoded data removed]",
      "text/plain": [
       "<matplotlib.figure.Figure at 0x1234f3090>"
      ]
     },
     "metadata": {},
     "output_type": "display_data"
    }
   ],
   "source": [
    "data = pd.DataFrame(data=Xlhd, columns=names)\n",
    "#sns.pairplot(data)\n",
    "pg = sns.pairplot(data, x_vars=[\"Wing-length\"], y_vars=[\"Wing-width\"])\n",
    "pg.axes[0,0].set_xlabel('Wing length')\n",
    "pg.axes[0,0].set_ylabel('Wing width')\n",
    "plt.savefig('wing_width_vs_wing_length_lhd.pgf')"
   ]
  },
  {
   "cell_type": "markdown",
   "metadata": {},
   "source": [
    "## Generating the samples"
   ]
  },
  {
   "cell_type": "code",
   "execution_count": 14,
   "metadata": {
    "collapsed": true
   },
   "outputs": [],
   "source": [
    "\n",
    "##################################################################\n",
    "##                            part 2                            ##\n",
    "##################################################################\n",
    "\n",
    "## We assume X is your best DoE over [0,1]^4\n",
    "\n",
    "## we choose the following parametrization with domain boundaries\n",
    "namesNew = ['wing angle', 'wing area','total length', 'wing_l / tail_l ratio']\n",
    "limits = np.array([75,115,20,35,22,31,0.65,1.6]).reshape(4,2).T\n",
    "\n",
    "# mapping to the new space\n",
    "def old2new(X):\n",
    "    Y = 0*X\n",
    "    Y[:,0] = angle(X)\n",
    "    Y[:,1] = X[:,0] * X[:,1]  \n",
    "    Y[:,2] = X[:,0] + X[:,2] + X[:,3] \n",
    "    Y[:,3] = X[:,0] / (X[:,2] - 2.5)\n",
    "    return(Y)\n",
    "\n",
    "# mapping to the original space\n",
    "def new2old(Y):\n",
    "    X = 0*Y\n",
    "    f_1 = np.sqrt(1+(1/Y[:,3])**2-2*np.cos(Y[:,0]*np.pi/180)*(1/Y[:,3]))\n",
    "    X[:,0] = (Y[:,2]-5) / (1 + 1./Y[:,3] + f_1)\n",
    "    X[:,1] = Y[:,1] / X[:,0]\n",
    "    X[:,2] = X[:,0] / Y[:,3] + 2.5\n",
    "    X[:,3] = Y[:,2] - X[:,0] - X[:,2]\n",
    "    return(X)\n",
    "\n",
    "\n",
    "## Change of coordinate 1: [0,1]^4 to the new domain\n",
    "X = Xlhd*(limits[1,:]-limits[0,:])[None,:] + limits[0:1,:]\n",
    "\n",
    "## Change of coordinate 2: new domain to the old one\n",
    "X = new2old(X)\n",
    "\n",
    "def single_helico_str(X,expNumber,groupName):\n",
    "    (Wl, Ww, Tl, Al) = X\n",
    "    Aw = .7\n",
    "    Tb = 1.\n",
    "    Tw = 1.2\n",
    "    lineHeight = .5\n",
    "\n",
    "    helico_str = \"\"\"\\\\makebox[%fcm]{\n",
    "    \\\\begin{pspicture}(%f,%f)(%f,%f)\n",
    "    \\psline[linewidth=0.02](%f,%f)(%f,%f)(%f,%f)(%f,%f)(%f,%f)(%f,%f)(%f,%f)(%f,%f)\n",
    "    \\psline[linewidth=0.02](%f,%f)(%f,%f)(%f,%f)(%f,%f)(%f,%f)(%f,%f)(%f,%f)(%f,%f)\n",
    "    \\psline[linewidth=0.02](%f,%f)(%f,%f)\n",
    "    \\psline[linewidth=0.02, linestyle=dashed, dash=0.17cm 0.10cm](%f,%f)(%f,%f)\n",
    "    \\psline[linewidth=0.02, linestyle=dashed, dash=0.17cm 0.10cm](%f,%f)(%f,%f)\n",
    "    \\psline[linewidth=0.02, linestyle=dashed, dash=0.17cm 0.10cm](%f,%f)(%f,%f)\n",
    "    \\\\rput[b](0,%f){\\\\footnotesize{%s}}\n",
    "    \\\\rput[b](0,%f){\\\\footnotesize{exp %i}}\n",
    "    \\\\rput[b](0,%f){\\\\footnotesize{$W_l = %.2f$}}\n",
    "    \\\\rput[b](0,%f){\\\\footnotesize{$W_w = %.2f$ }}\n",
    "    \\\\rput[b](0,%f){\\\\footnotesize{$T_l = %.2f$}}\n",
    "    \\\\rput[b](0,%f){\\\\footnotesize{$A_l= %.2f$  }}\n",
    "    \\end{pspicture}\n",
    "    }%%\n",
    "    \"\"\" %(2*Ww,\n",
    "        Ww,Wl+Al,-Ww,-Tl,\n",
    "        0,Wl+Al, -Aw,Wl+Al, -Aw,Wl, -Ww,Wl, -Ww,0, -Tw,-Tb, -Tw,-Tl, 0,-Tl,\n",
    "        0,Wl+Al,  Aw,Wl+Al,  Aw,Wl,  Ww,Wl,  Ww,0,  Tw,-Tb,  Tw,-Tl, 0,-Tl,\n",
    "        0,Wl+Al,0,0,\n",
    "        -Aw,Wl,Aw,Wl,\n",
    "        -Ww,0,Ww,0,\n",
    "        -Aw,Wl+Al-2.5,Aw,Wl+Al-2.5,\n",
    "        -Tb-1,groupName,\n",
    "        -Tb-1-lineHeight,expNumber,\n",
    "        -Tb-1-2*lineHeight,Wl,\n",
    "        -Tb-1-3*lineHeight,Ww,\n",
    "        -Tb-1-4*lineHeight,Tl,\n",
    "        -Tb-1-5*lineHeight,Al)\n",
    "    \n",
    "    return(helico_str)\n",
    "\n",
    "\n",
    "def writeLaTeX(X,groupName):\n",
    "    # inputs:   X, Design of Experiments, a (n,4) np.array\n",
    "    #           groupName, a string (escape LaTeX characters such as \\ _ etc)\n",
    "    # output:   write a file 'helicopters.tex'\n",
    "    f = open('helicopters.tex', 'w')\n",
    "\n",
    "    f.write( \"\"\"\\documentclass{article}\n",
    "    \\usepackage[usenames,dvipsnames]{pstricks}\n",
    "    \\usepackage[margin=7mm,paperheight=33cm,paperwidth=21.6cm]{geometry}\n",
    "    \\\\begin{document} \n",
    "    \\\\raggedbottom \n",
    "    \"\"\")\n",
    "    \n",
    "    wleft = 19.5\n",
    "    for i in range(X.shape[0]):\n",
    "        if 2*X[i,1] < wleft:\n",
    "            f.write(single_helico_str(X[i,:],i+1,groupName))\n",
    "        else:\n",
    "            wleft = 19.5\n",
    "            f.write(\"\\n \\n\" + single_helico_str(X[i,:],i+1,groupName))\n",
    "        wleft -= 2*X[i,1]\n",
    "\n",
    "    f.write('\\end{document}')\n",
    "    f.close()\n",
    "\n",
    "writeLaTeX(X, 'JG')\n",
    "#np.savetxt('X.csv', X, delimiter=',')\n",
    "#np.savetxt('Xlhd.csv', Xlhd, delimiter=',')"
   ]
  },
  {
   "cell_type": "code",
   "execution_count": null,
   "metadata": {
    "collapsed": false
   },
   "outputs": [],
   "source": []
  },
  {
   "cell_type": "code",
   "execution_count": null,
   "metadata": {
    "collapsed": true
   },
   "outputs": [],
   "source": []
  }
 ],
 "metadata": {
  "kernelspec": {
   "display_name": "Python 2",
   "language": "python",
   "name": "python2"
  },
  "language_info": {
   "codemirror_mode": {
    "name": "ipython",
    "version": 2
   },
   "file_extension": ".py",
   "mimetype": "text/x-python",
   "name": "python",
   "nbconvert_exporter": "python",
   "pygments_lexer": "ipython2",
   "version": "2.7.11"
  }
 },
 "nbformat": 4,
 "nbformat_minor": 0
}
