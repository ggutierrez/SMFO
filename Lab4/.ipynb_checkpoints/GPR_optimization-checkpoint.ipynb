{
 "cells": [
  {
   "cell_type": "markdown",
   "metadata": {},
   "source": [
    "# Lab 4: Gaussian Process Regression and optimization"
   ]
  },
  {
   "cell_type": "code",
   "execution_count": 1,
   "metadata": {
    "collapsed": false
   },
   "outputs": [
    {
     "name": "stdout",
     "output_type": "stream",
     "text": [
      "Populating the interactive namespace from numpy and matplotlib\n"
     ]
    },
    {
     "name": "stderr",
     "output_type": "stream",
     "text": [
      " /Users/juangilopez/anaconda/lib/python2.7/site-packages/IPython/html.py:14: ShimWarning:The `IPython.html` package has been deprecated. You should import from `notebook` instead. `IPython.html.widgets` has moved to `ipywidgets`.\n"
     ]
    }
   ],
   "source": [
    "% pylab inline\n",
    "import numpy as np\n",
    "import pandas as pd\n",
    "import pylab as pb\n",
    "import GPy\n",
    "import seaborn as sns\n",
    "import scipy as sp\n",
    "pb.ion()"
   ]
  },
  {
   "cell_type": "markdown",
   "metadata": {},
   "source": [
    "First we'll analize de gathered data to determine the noise fo he measurements"
   ]
  },
  {
   "cell_type": "code",
   "execution_count": 8,
   "metadata": {
    "collapsed": false
   },
   "outputs": [
    {
     "name": "stdout",
     "output_type": "stream",
     "text": [
      "<class 'pandas.core.frame.DataFrame'>\n"
     ]
    }
   ],
   "source": [
    "df = pd.read_csv('helicopterTrials.csv',names=['Ex1O1', 'Ex1O2', 'Ex2O1', 'Ex2O2']) # Falling times load\n",
    "print type(df) \n",
    "#sns.pairplot(df)"
   ]
  },
  {
   "cell_type": "code",
   "execution_count": 3,
   "metadata": {
    "collapsed": false
   },
   "outputs": [],
   "source": [
    "#exp1 = np.array(df[['Ex1O1', 'Ex1O2']])\n",
    "#exp2 = np.array(df[['Ex2O1', 'Ex2O2']])\n",
    "new_data_time = np.array([4.98, 5.07])\n",
    "new_data = np.array([[  6.50098425 ,  4.45364863,   7.95281359 , 12.47233836, -1.0*np.mean(new_data_time)]])"
   ]
  },
  {
   "cell_type": "code",
   "execution_count": 9,
   "metadata": {
    "collapsed": false
   },
   "outputs": [
    {
     "name": "stdout",
     "output_type": "stream",
     "text": [
      "[[  4.27171027   7.65321279   9.07186196   9.34873546  -4.4925    ]\n",
      " [  6.90945077   4.06355353  10.92089312  12.01580996  -3.85      ]\n",
      " [  7.31114173   2.73555085   7.52882764  10.39079986  -3.7825    ]\n",
      " [  9.15365389   2.7311498    8.22103368  12.24069704  -3.3025    ]\n",
      " [  6.49203258   3.49540878   7.4644955    9.88962577  -2.9075    ]\n",
      " [  7.42647304   2.74485819   7.69520087  10.80140301  -2.965     ]\n",
      " [  5.53892078   4.65239201   9.05593051  10.40514871  -3.6225    ]\n",
      " [  7.30272914   4.21338792   8.92179113  11.5447105   -4.4425    ]\n",
      " [  7.85092871   3.82120398   9.71286737  12.513127    -4.745     ]\n",
      " [  5.30371801   6.45410807   8.60162249  10.17158257  -3.415     ]\n",
      " [  6.60715697   4.71516664   8.07144047  10.78294101  -3.76      ]\n",
      " [  7.76607629   2.82292835   8.33016314  11.90376057  -2.96      ]\n",
      " [  4.6865547    5.00613776   8.38649383   9.85002839  -4.725     ]\n",
      " [  7.42152297   3.21310787   9.1691105   12.33244345  -3.405     ]\n",
      " [  6.95087249   3.87333777   7.05220868  10.7661496   -3.1625    ]\n",
      " [  5.68896884   5.6113995    8.24048603  10.60900667  -3.845     ]\n",
      " [  6.0581435    5.01549945  11.4835588   13.4582977   -4.9925    ]\n",
      " [  6.40096844   4.44644256   8.51536793  11.46827902  -3.18      ]\n",
      " [  5.94216122   3.75413784   6.45468068   9.83392733  -3.12      ]\n",
      " [  6.99250912   3.74026629   7.65515795  11.50617908  -3.7875    ]\n",
      " [  7.45091654   3.71663104   8.91469636  12.78823325  -3.385     ]\n",
      " [  5.3767316    6.22339759   9.46652931  11.77212371  -4.0925    ]\n",
      " [  6.42208833   4.91093549   8.67660777  11.97822697  -4.5425    ]\n",
      " [  4.06502839   5.10924618   8.3178388   10.07867127  -4.5525    ]\n",
      " [  7.60837511   4.44853906   8.01024382  12.6121503   -3.875     ]\n",
      " [  4.90850395   5.40662936   7.8472529   10.39808931  -4.845     ]\n",
      " [  5.96924607   4.12370077   8.83471011  12.04219767  -4.0775    ]\n",
      " [  6.58637238   5.25560698   6.68012242  11.04119751  -3.9125    ]\n",
      " [  8.31972584   3.55965872   8.42097277  13.79776292  -3.64      ]\n",
      " [  4.43121898   7.89850382   8.42856055  10.75560509  -5.4625    ]\n",
      " [  6.95889074   3.92414443   6.98589651  11.74752045  -3.4475    ]\n",
      " [  7.37247547   3.91268224   8.24478608  13.07504615  -4.9225    ]\n",
      " [  6.03843141   3.50320219   6.58497528  10.76120869  -4.3       ]\n",
      " [  7.90816188   3.69627856   8.78143205  14.07963684  -5.0175    ]\n",
      " [  7.33499778   2.93639646   8.56069732  13.48892028  -4.9725    ]\n",
      " [  6.0691506    5.32326423   9.29187585  13.10051202  -3.7475    ]\n",
      " [  6.97250969   3.64067122   9.3668656   13.96831701  -4.905     ]\n",
      " [  6.78363626   3.40185149   7.99453404  12.76029124  -5.345     ]\n",
      " [  5.07906448   4.77071503   9.5242381   12.70438973  -3.8275    ]\n",
      " [  4.53279165   7.29725204   7.18909481  10.27811355  -4.5825    ]\n",
      " [  6.50098425   4.45364863   7.95281359  12.47233836  -5.025     ]]\n"
     ]
    }
   ],
   "source": [
    "superexp = np.array(df[['Ex1O1', 'Ex1O2', 'Ex2O1', 'Ex2O2']])\n",
    "superexp = np.mean(superexp, axis=1)[:,None]\n",
    "#exp1 = np.mean(exp1, axis=1)\n",
    "#exp2 = np.mean(exp2, axis=1)\n",
    "data = np.loadtxt('X.csv', delimiter=',')\n",
    "#exp1 = exp1[:,None]\n",
    "#exp2 = exp2[:,None]\n",
    "data = np.hstack((data[0:40,:], -1.0*superexp)) # We multiply by minus one because we want to maximize\n",
    "data = np.vstack((data, new_data))\n",
    "names = [\"Wing-length\", \"Wing-width\", \"Tail-length\", \"Arm-length\", \"T1\"]\n",
    "dataplot = pd.DataFrame(data=data, columns=names)\n",
    "#sns.pairplot(dataplot)\n",
    "print data"
   ]
  },
  {
   "cell_type": "code",
   "execution_count": 10,
   "metadata": {
    "collapsed": false
   },
   "outputs": [],
   "source": [
    "\n",
    "##################################################################\n",
    "##                           helpers                            ##\n",
    "##################################################################\n",
    "\n",
    "## coordinate change\n",
    "\n",
    "def angle(X):\n",
    "    # input X is [\"Wing-length\", \"Wing-width\", \"Tail-length\", \"Arm-length\"]\n",
    "    # output is the angle (in degrees) between the tail and the wing\n",
    "    return(180/np.pi*np.arccos(-1.*((X[:,3]-2.5)**2-(X[:,2]-2.5)**2-X[:,0]**2)/(2*(X[:,2]-2.5)*X[:,0])))\n",
    "\n",
    "# mapping to the new space\n",
    "def old2new(X):\n",
    "    # input X is [\"Wing-length\", \"Wing-width\", \"Tail-length\", \"Arm-length\"]\n",
    "    # output Y is ['wing angle', 'wing area','total length', 'wing_l / tail_l ratio']\n",
    "    Y = 0*X\n",
    "    Y[:,0] = angle(X)\n",
    "    Y[:,1] = X[:,0] * X[:,1]  \n",
    "    Y[:,2] = X[:,0] + X[:,2] + X[:,3] \n",
    "    Y[:,3] = X[:,0] / (X[:,2] - 2.5)\n",
    "    return(Y)\n",
    "\n",
    "# mapping back to the original space\n",
    "def new2old(Y):\n",
    "    # input Y is ['wing angle', 'wing area','total length', 'wing_l / tail_l ratio']\n",
    "    # output X is [\"Wing-length\", \"Wing-width\", \"Tail-length\", \"Arm-length\"]\n",
    "    X = 0*Y\n",
    "    f_1 = np.sqrt(1+(1/Y[:,3])**2-2*np.cos(Y[:,0]*np.pi/180)*(1/Y[:,3]))\n",
    "    X[:,0] = (Y[:,2]-5) / (1 + 1./Y[:,3] + f_1)\n",
    "    X[:,1] = Y[:,1] / X[:,0]\n",
    "    X[:,2] = X[:,0] / Y[:,3] + 2.5\n",
    "    X[:,3] = Y[:,2] - X[:,0] - X[:,2]\n",
    "    return(X)\n",
    "\n",
    "## error measures\n",
    "\n",
    "def Q2(F,mX):\n",
    "\treturn(1-sum((F-mX)**2)/sum((F-np.mean(F))**2))\n",
    "\n",
    "def leaveOneOut(m):\n",
    "    n = m.X.shape[0]\n",
    "    mean = np.zeros(n)\n",
    "    var = np.zeros(n)\n",
    "    kern = m.kern\n",
    "    for i in range(n):\n",
    "        Xloo = np.delete(m.X,i,0)\n",
    "        Yloo = np.delete(m.Y,i,0)\n",
    "        mloo = GPy.models.gp_regression.GPRegression(Xloo, Yloo, kern.copy())\n",
    "        mloo[:] = m[:]\n",
    "        mean[i],var[i] = mloo.predict(X[i:i+1,:])\n",
    "        print mean[i]\n",
    "    return(mean,var)\n",
    "\n",
    "def leaveTwoOut(m):\n",
    "    n = m.X.shape[0]\n",
    "    mean = np.zeros(n)\n",
    "    var = np.zeros(n)\n",
    "    for i in range(n/2):\n",
    "        Xloo = np.delete(m.X,[i,i+n/2],0)\n",
    "        Yloo = np.delete(m.Y,[i,i+n/2],0)\n",
    "        mloo = GPy.models.gp_regression.GPRegression(Xloo, Yloo, m.kern.copy())\n",
    "        mloo[:] = m[:]\n",
    "        mean[[i,i+n/2]],var[[i,i+n/2]] = mloo.predict(m.X[[i,i+n/2],:])\n",
    "    return(mean,var)\n",
    "\n",
    "\n",
    "##############################\n",
    "# Question 1\n",
    "\n",
    "# load data\n",
    "#data = # TODO: load your data here\n",
    "\n",
    "X = data[:,0:4]#,data[:,0:4]))\n",
    "F = data[:,4:5]#,data[:,5:6]))\n",
    "\n",
    "n, d = X.shape\n",
    "\n",
    "## choose the new parameterization and rescale for convenience\n",
    "X =  old2new(X)\n",
    "limits = np.array([75,115,20,35,22,31,0.65,1.6]).reshape(4,2).T\n",
    "X = (X-limits[0:1,:])/(limits[1:2,:]-limits[0:1,:])\n",
    "\n",
    "F = F-np.mean(F)\n",
    "\n",
    "# look at noise variance\n",
    "#tau2 = 0.01#np.var(data[:,4]-data[:,5])/2.\n",
    "\n",
    "data = np.hstack((X, F))\n",
    "names = ['wing angle', 'wing area','total length', 'wing_l / tail_l ratio', \"T1\"]\n",
    "dataplot = pd.DataFrame(data=data, columns=names)\n",
    "#sns.pairplot(dataplot)"
   ]
  },
  {
   "cell_type": "code",
   "execution_count": 11,
   "metadata": {
    "collapsed": false
   },
   "outputs": [
    {
     "name": "stdout",
     "output_type": "stream",
     "text": [
      "Optimization restart 1/10, f = 33.1778920973\n",
      "Optimization restart 2/10, f = 33.7643654203\n",
      "Optimization restart 3/10, f = 33.3441557463\n",
      "Optimization restart 4/10, f = 33.4926309572\n",
      "Optimization restart 5/10, f = 33.590238551\n",
      "Optimization restart 6/10, f = 32.9557578238\n",
      "Optimization restart 7/10, f = 33.2099343247\n",
      "Optimization restart 8/10, f = 33.4059705058\n",
      "Optimization restart 9/10, f = 33.4926310188\n",
      "Optimization restart 10/10, f = 33.4926310054\n",
      "\n",
      "Name                              : GP regression\n",
      "Log-likelihood                    : -32.9557578238\n",
      "Number of Parameters              : 16\n",
      "Number of Optimization Parameters : 16\n",
      "Updates                           : True\n",
      "Parameters:\n",
      "  GP_regression.           |        Value        |  Constraint  |  Prior  |  Tied to\n",
      "  \u001b[1msum.Mat32.variance     \u001b[0;0m  |    0.0962051417694  |     +ve      |         |         \n",
      "  \u001b[1msum.Mat32.lengthscale  \u001b[0;0m  |               (4,)  |     +ve      |         |         \n",
      "  \u001b[1msum.rbf_1.variance     \u001b[0;0m  |     0.279818869983  |     +ve      |         |         \n",
      "  \u001b[1msum.rbf_1.lengthscale  \u001b[0;0m  |               (4,)  |     +ve      |         |         \n",
      "  \u001b[1msum.rbf.variance       \u001b[0;0m  |     0.167775775441  |     +ve      |         |         \n",
      "  \u001b[1msum.rbf.lengthscale    \u001b[0;0m  |               (4,)  |     +ve      |         |         \n",
      "  \u001b[1mGaussian_noise.variance\u001b[0;0m  |  1.23195228302e-15  |     +ve      |         |         \n",
      "IMSE = 0.18\n"
     ]
    }
   ],
   "source": [
    "##############################\n",
    "# Question 2\n",
    "\n",
    "# define a kernel\n",
    "def GPreg(X, F, d):\n",
    "    kern0 = GPy.kern.Matern32(input_dim=d,variance=np.var(F),lengthscale=[.5]*d,ARD=True)\n",
    "    kern1 = GPy.kern.RBF(input_dim=d,variance=0.01,lengthscale=[.1]*d,ARD=True)\n",
    "    kern2 = GPy.kern.RBF(input_dim=d,variance=0.05,lengthscale=[.5]*d,ARD=True)\n",
    "    kern = kern0 + kern1 + kern2\n",
    "    #print kern\n",
    "    #kern['.*lengthscale'] # get more details about length-scales\n",
    "    # define a model\n",
    "    m = GPy.models.gp_regression.GPRegression(X, F, kern)\n",
    "    #print m\n",
    "    # optimize the model parameters\n",
    "    m.optimize()\n",
    "    m.optimize_restarts(num_restarts=10)\n",
    "    #print m\n",
    "    #m['.*lengthscale']\n",
    "    return m\n",
    "\n",
    "# predict at points Xnew\n",
    "m = GPreg(X, F, d)\n",
    "Xnew = np.random.uniform(0,1,(3,d))\n",
    "Xnew = Xnew*(np.max(X,axis=0)-np.min(X,axis=0)) + np.min(X,axis=0)\n",
    "mean, var = m.predict(Xnew)\n",
    "print m\n",
    "print \"IMSE =\", round(np.mean(var),2)"
   ]
  },
  {
   "cell_type": "code",
   "execution_count": 12,
   "metadata": {
    "collapsed": false
   },
   "outputs": [
    {
     "name": "stdout",
     "output_type": "stream",
     "text": [
      "Optimization restart 1/10, f = 33.1778920973\n",
      "Optimization restart 2/10, f = 33.7643655203\n",
      "Optimization restart 3/10, f = 33.2099351692\n",
      "Optimization restart 4/10, f = 33.209934407\n",
      "Optimization restart 5/10, f = 33.7643654677\n",
      "Optimization restart 6/10, f = 33.4926311621\n",
      "Optimization restart 7/10, f = 33.49263103\n",
      "Optimization restart 8/10, f = 33.1546330303\n",
      "Optimization restart 9/10, f = 33.0336584846\n",
      "Optimization restart 10/10, f = 33.4059710004\n",
      "-0.00631298451086\n",
      "0.0533658312613\n",
      "0.90215918097\n",
      "0.593847752072\n",
      "0.563284766888\n",
      "0.600628405222\n",
      "0.159006962921\n",
      "-0.165327228373\n",
      "-0.0153388785694\n",
      "-0.0693726311888\n",
      "0.216072462303\n",
      "0.933486325765\n",
      "0.163797927615\n",
      "0.286932510659\n",
      "0.809875749112\n",
      "0.228816200787\n",
      "-0.609509324849\n",
      "0.342407605805\n",
      "0.763901580869\n",
      "0.401257690478\n",
      "0.438151355843\n",
      "-0.491720686519\n",
      "0.0310985299296\n",
      "-0.430052499684\n",
      "0.524938285856\n",
      "-0.219259746374\n",
      "-0.610135116237\n",
      "0.190026772681\n",
      "-0.200810544298\n",
      "-0.332422232349\n",
      "0.0859197117511\n",
      "-0.548705551401\n",
      "0.0667840859977\n",
      "-0.802760854094\n",
      "-1.01072749948\n",
      "-0.62512461596\n",
      "-0.373347238253\n",
      "-0.674749564925\n",
      "-0.314102949902\n",
      "-0.323447650929\n",
      "-1.14112054137\n",
      "Q2 measured for leave one out:  0.573129483367\n",
      "Q2 measured for leave two out:  0.530720751744\n"
     ]
    },
    {
     "data": {
      "text/plain": [
       "(<matplotlib.text.Text at 0x11a23f190>, <matplotlib.text.Text at 0x11a249b10>)"
      ]
     },
     "execution_count": 12,
     "metadata": {},
     "output_type": "execute_result"
    },
    {
     "data": {
      "image/png": "[encoded data removed]",
      "text/plain": [
       "<matplotlib.figure.Figure at 0x119eee610>"
      ]
     },
     "metadata": {},
     "output_type": "display_data"
    }
   ],
   "source": [
    "m = GPreg(X, F, d)\n",
    "mloo, vloo = leaveOneOut(m)\n",
    "mlto, vltoo = leaveTwoOut(m)\n",
    "print 'Q2 measured for leave one out: ', Q2(F.flatten(),mloo.flatten())\n",
    "print 'Q2 measured for leave two out: ', Q2(F.flatten(),mlto.flatten())\n",
    "\n",
    "pb.figure()\n",
    "pb.plot(F,mloo,'kx',mew=2)\n",
    "pb.plot((-2,2),(-2,2),'k--',linewidth=.75)\n",
    "pb.xlim((-1.7,1.7)), pb.ylim((-1.7,1.7))\n",
    "pb.xlabel('real values'),pb.ylabel('LOO predictions')"
   ]
  },
  {
   "cell_type": "markdown",
   "metadata": {
    "collapsed": false
   },
   "source": [
    "### Optimization: Using expected improvement"
   ]
  },
  {
   "cell_type": "code",
   "execution_count": 96,
   "metadata": {
    "collapsed": false
   },
   "outputs": [],
   "source": [
    "##      expected improvement      ##\n",
    "def EI(x,m): # expected improvement for deterministic model\n",
    "    # x : matrix of input points\n",
    "    # m : GPy GPR model\n",
    "    x.flatten()\n",
    "    x = x[None,:]\n",
    "    m['.*noise'] = 0.0\n",
    "    #print x.shape\n",
    "    mean, var = m.predict(x)\n",
    "    var[var<0] = 0\n",
    "    u = (np.min(m.Y) - mean)/np.sqrt(var)\n",
    "    ei = np.sqrt(var) * (u * sp.stats.norm.cdf(u) + sp.stats.norm.pdf(u))\n",
    "    ei[np.isnan(ei)] = 0\n",
    "    return ei\n",
    "\n",
    "N = 1000\n",
    "start_points = np.random.random_sample((N,4))\n",
    "best_point = 0\n",
    "mmin = -10000000.0\n",
    "for i in range(0,N):\n",
    "    ini = start_points[i,:].copy()\n",
    "    mfun = EI(ini, m)\n",
    "    #print ini.shape\n",
    "    #optimizer = sp.optimize.minimize(EI, ini, args=(m))\n",
    "    #print optimizer.fun\n",
    "    #print optimizer.x\n",
    "    if mfun > mmin:\n",
    "        best_point = ini\n",
    "        mmin = mfun\n"
   ]
  },
  {
   "cell_type": "code",
   "execution_count": 97,
   "metadata": {
    "collapsed": false
   },
   "outputs": [
    {
     "name": "stdout",
     "output_type": "stream",
     "text": [
      "[[  3.93122533   7.75411956   8.12359392  10.22273   ]]\n"
     ]
    }
   ],
   "source": [
    "best_point_old = best_point[None,:]\n",
    "super_best = best_point_old *(limits[1,:]-limits[0,:])[None,:] + limits[0:1,:]\n",
    "bicho = new2old(super_best)\n",
    "print bicho"
   ]
  },
  {
   "cell_type": "code",
   "execution_count": 98,
   "metadata": {
    "collapsed": true
   },
   "outputs": [],
   "source": [
    "def single_helico_str(X,expNumber,groupName):\n",
    "    (Wl, Ww, Tl, Al) = X\n",
    "    Aw = .7\n",
    "    Tb = 1.\n",
    "    Tw = 1.2\n",
    "    lineHeight = .5\n",
    "\n",
    "    helico_str = \"\"\"\\\\makebox[%fcm]{\n",
    "    \\\\begin{pspicture}(%f,%f)(%f,%f)\n",
    "    \\psline[linewidth=0.02](%f,%f)(%f,%f)(%f,%f)(%f,%f)(%f,%f)(%f,%f)(%f,%f)(%f,%f)\n",
    "    \\psline[linewidth=0.02](%f,%f)(%f,%f)(%f,%f)(%f,%f)(%f,%f)(%f,%f)(%f,%f)(%f,%f)\n",
    "    \\psline[linewidth=0.02](%f,%f)(%f,%f)\n",
    "    \\psline[linewidth=0.02, linestyle=dashed, dash=0.17cm 0.10cm](%f,%f)(%f,%f)\n",
    "    \\psline[linewidth=0.02, linestyle=dashed, dash=0.17cm 0.10cm](%f,%f)(%f,%f)\n",
    "    \\psline[linewidth=0.02, linestyle=dashed, dash=0.17cm 0.10cm](%f,%f)(%f,%f)\n",
    "    \\\\rput[b](0,%f){\\\\footnotesize{%s}}\n",
    "    \\\\rput[b](0,%f){\\\\footnotesize{exp %i}}\n",
    "    \\\\rput[b](0,%f){\\\\footnotesize{$W_l = %.2f$}}\n",
    "    \\\\rput[b](0,%f){\\\\footnotesize{$W_w = %.2f$ }}\n",
    "    \\\\rput[b](0,%f){\\\\footnotesize{$T_l = %.2f$}}\n",
    "    \\\\rput[b](0,%f){\\\\footnotesize{$A_l= %.2f$  }}\n",
    "    \\end{pspicture}\n",
    "    }%%\n",
    "    \"\"\" %(2*Ww,\n",
    "        Ww,Wl+Al,-Ww,-Tl,\n",
    "        0,Wl+Al, -Aw,Wl+Al, -Aw,Wl, -Ww,Wl, -Ww,0, -Tw,-Tb, -Tw,-Tl, 0,-Tl,\n",
    "        0,Wl+Al,  Aw,Wl+Al,  Aw,Wl,  Ww,Wl,  Ww,0,  Tw,-Tb,  Tw,-Tl, 0,-Tl,\n",
    "        0,Wl+Al,0,0,\n",
    "        -Aw,Wl,Aw,Wl,\n",
    "        -Ww,0,Ww,0,\n",
    "        -Aw,Wl+Al-2.5,Aw,Wl+Al-2.5,\n",
    "        -Tb-1,groupName,\n",
    "        -Tb-1-lineHeight,expNumber,\n",
    "        -Tb-1-2*lineHeight,Wl,\n",
    "        -Tb-1-3*lineHeight,Ww,\n",
    "        -Tb-1-4*lineHeight,Tl,\n",
    "        -Tb-1-5*lineHeight,Al)\n",
    "    \n",
    "    return(helico_str)\n",
    "\n",
    "\n",
    "def writeLaTeX(X,groupName):\n",
    "    # inputs:   X, Design of Experiments, a (n,4) np.array\n",
    "    #           groupName, a string (escape LaTeX characters such as \\ _ etc)\n",
    "    # output:   write a file 'helicopters.tex'\n",
    "    f = open('helicopters2.tex', 'w')\n",
    "\n",
    "    f.write( \"\"\"\\documentclass{article}\n",
    "    \\usepackage[usenames,dvipsnames]{pstricks}\n",
    "    \\usepackage[margin=7mm,paperheight=33cm,paperwidth=21.6cm]{geometry}\n",
    "    \\\\begin{document} \n",
    "    \\\\raggedbottom \n",
    "    \"\"\")\n",
    "    \n",
    "    wleft = 19.5\n",
    "    for i in range(X.shape[0]):\n",
    "        if 2*X[i,1] < wleft:\n",
    "            f.write(single_helico_str(X[i,:],i+1,groupName))\n",
    "        else:\n",
    "            wleft = 19.5\n",
    "            f.write(\"\\n \\n\" + single_helico_str(X[i,:],i+1,groupName))\n",
    "        wleft -= 2*X[i,1]\n",
    "\n",
    "    f.write('\\end{document}')\n",
    "    f.close()\n",
    "\n",
    "writeLaTeX(bicho, 'JG')"
   ]
  },
  {
   "cell_type": "code",
   "execution_count": 75,
   "metadata": {
    "collapsed": false
   },
   "outputs": [
    {
     "ename": "ValueError",
     "evalue": "could not broadcast input array from shape (4) into shape (1)",
     "output_type": "error",
     "traceback": [
      "\u001b[0;31m---------------------------------------------------------------------------\u001b[0m",
      "\u001b[0;31mValueError\u001b[0m                                Traceback (most recent call last)",
      "\u001b[0;32m<ipython-input-75-74a13e381cd7>\u001b[0m in \u001b[0;36m<module>\u001b[0;34m()\u001b[0m\n\u001b[0;32m----> 1\u001b[0;31m \u001b[0mold2new\u001b[0m\u001b[0;34m(\u001b[0m\u001b[0mbicho\u001b[0m\u001b[0;34m)\u001b[0m\u001b[0;34m\u001b[0m\u001b[0m\n\u001b[0m",
      "\u001b[0;32m<ipython-input-18-636a1fad5dc2>\u001b[0m in \u001b[0;36mold2new\u001b[0;34m(X)\u001b[0m\n\u001b[1;32m     16\u001b[0m     \u001b[0;31m# output Y is ['wing angle', 'wing area','total length', 'wing_l / tail_l ratio']\u001b[0m\u001b[0;34m\u001b[0m\u001b[0;34m\u001b[0m\u001b[0m\n\u001b[1;32m     17\u001b[0m     \u001b[0mY\u001b[0m \u001b[0;34m=\u001b[0m \u001b[0;36m0\u001b[0m\u001b[0;34m*\u001b[0m\u001b[0mX\u001b[0m\u001b[0;34m\u001b[0m\u001b[0m\n\u001b[0;32m---> 18\u001b[0;31m     \u001b[0mY\u001b[0m\u001b[0;34m[\u001b[0m\u001b[0;34m:\u001b[0m\u001b[0;34m,\u001b[0m\u001b[0;36m0\u001b[0m\u001b[0;34m]\u001b[0m \u001b[0;34m=\u001b[0m \u001b[0mangle\u001b[0m\u001b[0;34m(\u001b[0m\u001b[0mX\u001b[0m\u001b[0;34m)\u001b[0m\u001b[0;34m\u001b[0m\u001b[0m\n\u001b[0m\u001b[1;32m     19\u001b[0m     \u001b[0mY\u001b[0m\u001b[0;34m[\u001b[0m\u001b[0;34m:\u001b[0m\u001b[0;34m,\u001b[0m\u001b[0;36m1\u001b[0m\u001b[0;34m]\u001b[0m \u001b[0;34m=\u001b[0m \u001b[0mX\u001b[0m\u001b[0;34m[\u001b[0m\u001b[0;34m:\u001b[0m\u001b[0;34m,\u001b[0m\u001b[0;36m0\u001b[0m\u001b[0;34m]\u001b[0m \u001b[0;34m*\u001b[0m \u001b[0mX\u001b[0m\u001b[0;34m[\u001b[0m\u001b[0;34m:\u001b[0m\u001b[0;34m,\u001b[0m\u001b[0;36m1\u001b[0m\u001b[0;34m]\u001b[0m\u001b[0;34m\u001b[0m\u001b[0m\n\u001b[1;32m     20\u001b[0m     \u001b[0mY\u001b[0m\u001b[0;34m[\u001b[0m\u001b[0;34m:\u001b[0m\u001b[0;34m,\u001b[0m\u001b[0;36m2\u001b[0m\u001b[0;34m]\u001b[0m \u001b[0;34m=\u001b[0m \u001b[0mX\u001b[0m\u001b[0;34m[\u001b[0m\u001b[0;34m:\u001b[0m\u001b[0;34m,\u001b[0m\u001b[0;36m0\u001b[0m\u001b[0;34m]\u001b[0m \u001b[0;34m+\u001b[0m \u001b[0mX\u001b[0m\u001b[0;34m[\u001b[0m\u001b[0;34m:\u001b[0m\u001b[0;34m,\u001b[0m\u001b[0;36m2\u001b[0m\u001b[0;34m]\u001b[0m \u001b[0;34m+\u001b[0m \u001b[0mX\u001b[0m\u001b[0;34m[\u001b[0m\u001b[0;34m:\u001b[0m\u001b[0;34m,\u001b[0m\u001b[0;36m3\u001b[0m\u001b[0;34m]\u001b[0m\u001b[0;34m\u001b[0m\u001b[0m\n",
      "\u001b[0;31mValueError\u001b[0m: could not broadcast input array from shape (4) into shape (1)"
     ]
    }
   ],
   "source": []
  },
  {
   "cell_type": "code",
   "execution_count": null,
   "metadata": {
    "collapsed": true
   },
   "outputs": [],
   "source": []
  }
 ],
 "metadata": {
  "kernelspec": {
   "display_name": "Python 2",
   "language": "python",
   "name": "python2"
  },
  "language_info": {
   "codemirror_mode": {
    "name": "ipython",
    "version": 2
   },
   "file_extension": ".py",
   "mimetype": "text/x-python",
   "name": "python",
   "nbconvert_exporter": "python",
   "pygments_lexer": "ipython2",
   "version": "2.7.11"
  }
 },
 "nbformat": 4,
 "nbformat_minor": 0
}
